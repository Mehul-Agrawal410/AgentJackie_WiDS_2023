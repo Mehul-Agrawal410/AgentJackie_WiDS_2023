{
  "nbformat": 4,
  "nbformat_minor": 0,
  "metadata": {
    "colab": {
      "provenance": [],
      "authorship_tag": "ABX9TyO+nSaTWesjnVK/OF6HZSNo",
      "include_colab_link": true
    },
    "kernelspec": {
      "name": "python3",
      "display_name": "Python 3"
    },
    "language_info": {
      "name": "python"
    }
  },
  "cells": [
    {
      "cell_type": "markdown",
      "metadata": {
        "id": "view-in-github",
        "colab_type": "text"
      },
      "source": [
        "<a href=\"https://colab.research.google.com/github/Mehul-Agrawal410/AgentJackie_WiDS_2023/blob/main/Week_3.ipynb\" target=\"_parent\"><img src=\"https://colab.research.google.com/assets/colab-badge.svg\" alt=\"Open In Colab\"/></a>"
      ]
    },
    {
      "cell_type": "code",
      "source": [
        "import numpy as np\n",
        "\n",
        "def parse_mdp_file(file_path):\n",
        "    mdp_data = {}\n",
        "\n",
        "    with open(file_path, 'r') as file:\n",
        "        for line in file:\n",
        "            parts = line.strip().split()\n",
        "            if parts[0] == 'transition':\n",
        "                state, action, next_state, reward, probability = map(float, parts[1:])\n",
        "                if state not in mdp_data:\n",
        "                    mdp_data[state] = {}\n",
        "                if action not in mdp_data[state]:\n",
        "                    mdp_data[state][action] = []\n",
        "                mdp_data[state][action].append((next_state, reward, probability))\n",
        "            elif parts[0] == 'numStates':\n",
        "                num_states = int(parts[1])\n",
        "            elif parts[0] == 'numActions':\n",
        "                num_actions = int(parts[1])\n",
        "            elif parts[0] == 'discount':\n",
        "                discount = float(parts[1])\n",
        "\n",
        "    return num_states, num_actions, mdp_data, discount\n",
        "\n",
        "def value_iteration(num_states, num_actions, mdp_data, discount, epsilon=1e-6, max_iterations=1000):\n",
        "    V = np.zeros(num_states)\n",
        "\n",
        "    for _ in range(max_iterations):\n",
        "        delta = 0\n",
        "        for s in range(num_states):\n",
        "            v = V[s]\n",
        "            action_values = []\n",
        "            for a in range(num_actions):\n",
        "                action_value = 0\n",
        "                if s in mdp_data and a in mdp_data[s]:\n",
        "                    for next_state, reward, probability in mdp_data[s][a]:\n",
        "                        action_value += probability * (reward + discount * V[int(next_state)])\n",
        "                action_values.append(action_value)\n",
        "\n",
        "            V[s] = max(action_values)\n",
        "            delta = max(delta, abs(v - V[s]))\n",
        "\n",
        "        if delta < epsilon:\n",
        "            break\n",
        "\n",
        "    # Policy extraction\n",
        "    policy = np.zeros(num_states, dtype=int)\n",
        "    for s in range(num_states):\n",
        "        action_values = []\n",
        "        for a in range(num_actions):\n",
        "            action_value = 0\n",
        "            if s in mdp_data and a in mdp_data[s]:\n",
        "                for next_state, reward, probability in mdp_data[s][a]:\n",
        "                    action_value += probability * (reward + discount * V[int(next_state)])\n",
        "            action_values.append(action_value)\n",
        "        policy[s] = np.argmax(action_values)\n",
        "\n",
        "    return V, policy"
      ],
      "metadata": {
        "id": "0Q3g4rtopYFD"
      },
      "execution_count": 1,
      "outputs": []
    },
    {
      "cell_type": "code",
      "source": [
        "file_path = 'episodic-mdp-2-2.txt'\n",
        "\n",
        "num_states, num_actions, mdp_data, discount = parse_mdp_file(file_path)\n",
        "\n",
        "V_star, pi_star = value_iteration(num_states, num_actions, mdp_data, discount)\n",
        "\n",
        "for s in range(num_states):\n",
        "    print(f'V*({s}) = {V_star[s]:.6f}\\tπ*({s}) = {pi_star[s]}')"
      ],
      "metadata": {
        "colab": {
          "base_uri": "https://localhost:8080/"
        },
        "id": "nfhBNHrxoLJO",
        "outputId": "702ec622-7e8e-4989-f64e-53538decfcd2"
      },
      "execution_count": 2,
      "outputs": [
        {
          "output_type": "stream",
          "name": "stdout",
          "text": [
            "V*(0) = 0.000000\tπ*(0) = 0\n",
            "V*(1) = 1.455816\tπ*(1) = 0\n"
          ]
        }
      ]
    },
    {
      "cell_type": "code",
      "source": [
        "file_path = 'episodic-mdp-10-5.txt'\n",
        "\n",
        "num_states, num_actions, mdp_data, discount = parse_mdp_file(file_path)\n",
        "\n",
        "V_star, pi_star = value_iteration(num_states, num_actions, mdp_data, discount)\n",
        "\n",
        "for s in range(num_states):\n",
        "    print(f'V*({s}) = {V_star[s]:.6f}\\tπ*({s}) = {pi_star[s]}')"
      ],
      "metadata": {
        "colab": {
          "base_uri": "https://localhost:8080/"
        },
        "id": "S1RfNwJDn6wp",
        "outputId": "c19d0609-31a0-412a-e342-75dce66f5b2a"
      },
      "execution_count": 3,
      "outputs": [
        {
          "output_type": "stream",
          "name": "stdout",
          "text": [
            "V*(0) = 0.000000\tπ*(0) = 0\n",
            "V*(1) = 412.583851\tπ*(1) = 3\n",
            "V*(2) = 412.877702\tπ*(2) = 4\n",
            "V*(3) = 392.533051\tπ*(3) = 2\n",
            "V*(4) = 367.978651\tπ*(4) = 1\n",
            "V*(5) = 0.000000\tπ*(5) = 0\n",
            "V*(6) = 410.142941\tπ*(6) = 2\n",
            "V*(7) = 403.361613\tπ*(7) = 2\n",
            "V*(8) = 275.520214\tπ*(8) = 4\n",
            "V*(9) = 411.815005\tπ*(9) = 0\n"
          ]
        }
      ]
    },
    {
      "cell_type": "code",
      "source": [
        "file_path = 'episodic-mdp-50-20.txt'\n",
        "\n",
        "num_states, num_actions, mdp_data, discount = parse_mdp_file(file_path)\n",
        "\n",
        "V_star, pi_star = value_iteration(num_states, num_actions, mdp_data, discount)\n",
        "\n",
        "for s in range(num_states):\n",
        "    print(f'V*({s}) = {V_star[s]:.6f}\\tπ*({s}) = {pi_star[s]}')"
      ],
      "metadata": {
        "colab": {
          "base_uri": "https://localhost:8080/"
        },
        "id": "2DvIroW3pdkm",
        "outputId": "801804af-4346-4fbf-b6fd-f85323d3d589"
      },
      "execution_count": 4,
      "outputs": [
        {
          "output_type": "stream",
          "name": "stdout",
          "text": [
            "V*(0) = 7.985539\tπ*(0) = 16\n",
            "V*(1) = 7.837293\tπ*(1) = 9\n",
            "V*(2) = 0.000000\tπ*(2) = 0\n",
            "V*(3) = 7.664214\tπ*(3) = 18\n",
            "V*(4) = 7.830739\tπ*(4) = 15\n",
            "V*(5) = 7.826876\tπ*(5) = 12\n",
            "V*(6) = 7.943425\tπ*(6) = 10\n",
            "V*(7) = 8.261767\tπ*(7) = 4\n",
            "V*(8) = 7.869689\tπ*(8) = 14\n",
            "V*(9) = 8.348369\tπ*(9) = 5\n",
            "V*(10) = 7.711353\tπ*(10) = 11\n",
            "V*(11) = 7.775428\tπ*(11) = 0\n",
            "V*(12) = 7.914739\tπ*(12) = 17\n",
            "V*(13) = 8.006130\tπ*(13) = 16\n",
            "V*(14) = 8.101705\tπ*(14) = 0\n",
            "V*(15) = 8.089335\tπ*(15) = 15\n",
            "V*(16) = 0.000000\tπ*(16) = 0\n",
            "V*(17) = 7.652555\tπ*(17) = 9\n",
            "V*(18) = 8.124856\tπ*(18) = 4\n",
            "V*(19) = 7.843159\tπ*(19) = 15\n",
            "V*(20) = 8.415758\tπ*(20) = 12\n",
            "V*(21) = 7.321338\tπ*(21) = 9\n",
            "V*(22) = 7.627953\tπ*(22) = 2\n",
            "V*(23) = 7.984526\tπ*(23) = 7\n",
            "V*(24) = 7.708907\tπ*(24) = 13\n",
            "V*(25) = 7.777013\tπ*(25) = 10\n",
            "V*(26) = 8.089615\tπ*(26) = 15\n",
            "V*(27) = 5.340500\tπ*(27) = 18\n",
            "V*(28) = 8.238759\tπ*(28) = 19\n",
            "V*(29) = 7.855449\tπ*(29) = 6\n",
            "V*(30) = 7.457376\tπ*(30) = 3\n",
            "V*(31) = 7.829690\tπ*(31) = 0\n",
            "V*(32) = 0.000000\tπ*(32) = 0\n",
            "V*(33) = 7.660099\tπ*(33) = 17\n",
            "V*(34) = 0.000000\tπ*(34) = 0\n",
            "V*(35) = 8.418250\tπ*(35) = 8\n",
            "V*(36) = 7.959225\tπ*(36) = 17\n",
            "V*(37) = 8.097637\tπ*(37) = 0\n",
            "V*(38) = 7.777998\tπ*(38) = 18\n",
            "V*(39) = 7.661627\tπ*(39) = 0\n",
            "V*(40) = 7.991033\tπ*(40) = 3\n",
            "V*(41) = 8.497706\tπ*(41) = 3\n",
            "V*(42) = 7.933299\tπ*(42) = 8\n",
            "V*(43) = 7.623535\tπ*(43) = 19\n",
            "V*(44) = 7.864189\tπ*(44) = 10\n",
            "V*(45) = 7.799440\tπ*(45) = 1\n",
            "V*(46) = 7.948459\tπ*(46) = 7\n",
            "V*(47) = 7.806155\tπ*(47) = 5\n",
            "V*(48) = 7.637894\tπ*(48) = 18\n",
            "V*(49) = 7.745239\tπ*(49) = 18\n"
          ]
        }
      ]
    },
    {
      "cell_type": "code",
      "source": [
        "file_path = 'continuing-mdp-2-2.txt'\n",
        "\n",
        "num_states, num_actions, mdp_data, discount = parse_mdp_file(file_path)\n",
        "\n",
        "V_star, pi_star = value_iteration(num_states, num_actions, mdp_data, discount)\n",
        "\n",
        "for s in range(num_states):\n",
        "    print(f'V*({s}) = {V_star[s]:.6f}\\tπ*({s}) = {pi_star[s]}')"
      ],
      "metadata": {
        "colab": {
          "base_uri": "https://localhost:8080/"
        },
        "id": "HbggIskOoyjl",
        "outputId": "2c0c03cb-e1a1-4e1a-9381-9193c242a2fd"
      },
      "execution_count": 5,
      "outputs": [
        {
          "output_type": "stream",
          "name": "stdout",
          "text": [
            "V*(0) = 5.999276\tπ*(0) = 0\n",
            "V*(1) = 5.918427\tπ*(1) = 0\n"
          ]
        }
      ]
    },
    {
      "cell_type": "code",
      "source": [
        "file_path = 'continuing-mdp-10-5.txt'\n",
        "\n",
        "num_states, num_actions, mdp_data, discount = parse_mdp_file(file_path)\n",
        "\n",
        "V_star, pi_star = value_iteration(num_states, num_actions, mdp_data, discount)\n",
        "\n",
        "for s in range(num_states):\n",
        "    print(f'V*({s}) = {V_star[s]:.6f}\\tπ*({s}) = {pi_star[s]}')"
      ],
      "metadata": {
        "colab": {
          "base_uri": "https://localhost:8080/"
        },
        "id": "289Vyh7iosXM",
        "outputId": "03debf53-ae9e-449d-ad75-6f2e0bb30744"
      },
      "execution_count": 6,
      "outputs": [
        {
          "output_type": "stream",
          "name": "stdout",
          "text": [
            "V*(0) = 2.234956\tπ*(0) = 3\n",
            "V*(1) = 2.373610\tπ*(1) = 3\n",
            "V*(2) = 2.604045\tπ*(2) = 3\n",
            "V*(3) = 2.647782\tπ*(3) = 1\n",
            "V*(4) = 2.522229\tπ*(4) = 4\n",
            "V*(5) = 2.375250\tπ*(5) = 0\n",
            "V*(6) = 2.684804\tπ*(6) = 2\n",
            "V*(7) = 2.688308\tπ*(7) = 0\n",
            "V*(8) = 2.640807\tπ*(8) = 3\n",
            "V*(9) = 2.572426\tπ*(9) = 1\n"
          ]
        }
      ]
    },
    {
      "cell_type": "code",
      "source": [
        "file_path = 'continuing-mdp-50-20.txt'\n",
        "\n",
        "num_states, num_actions, mdp_data, discount = parse_mdp_file(file_path)\n",
        "\n",
        "V_star, pi_star = value_iteration(num_states, num_actions, mdp_data, discount)\n",
        "\n",
        "for s in range(num_states):\n",
        "    print(f'V*({s}) = {V_star[s]:.6f}\\tπ*({s}) = {pi_star[s]}')"
      ],
      "metadata": {
        "colab": {
          "base_uri": "https://localhost:8080/"
        },
        "id": "rbisKfELo2IL",
        "outputId": "0e4c8d3a-e228-4809-8e71-d6fd8c975fa8"
      },
      "execution_count": 7,
      "outputs": [
        {
          "output_type": "stream",
          "name": "stdout",
          "text": [
            "V*(0) = 1.065079\tπ*(0) = 7\n",
            "V*(1) = 1.051696\tπ*(1) = 2\n",
            "V*(2) = 0.824259\tπ*(2) = 7\n",
            "V*(3) = 0.601320\tπ*(3) = 14\n",
            "V*(4) = 1.057797\tπ*(4) = 4\n",
            "V*(5) = 0.980877\tπ*(5) = 19\n",
            "V*(6) = 0.983041\tπ*(6) = 18\n",
            "V*(7) = 1.002595\tπ*(7) = 5\n",
            "V*(8) = 0.886921\tπ*(8) = 15\n",
            "V*(9) = 0.837798\tπ*(9) = 8\n",
            "V*(10) = 1.109280\tπ*(10) = 8\n",
            "V*(11) = 0.910305\tπ*(11) = 19\n",
            "V*(12) = 1.155357\tπ*(12) = 7\n",
            "V*(13) = 0.958098\tπ*(13) = 8\n",
            "V*(14) = 0.772395\tπ*(14) = 18\n",
            "V*(15) = 1.218694\tπ*(15) = 16\n",
            "V*(16) = 0.939597\tπ*(16) = 11\n",
            "V*(17) = 0.840961\tπ*(17) = 19\n",
            "V*(18) = 0.934034\tπ*(18) = 2\n",
            "V*(19) = 0.899851\tπ*(19) = 12\n",
            "V*(20) = 1.168103\tπ*(20) = 14\n",
            "V*(21) = 0.985183\tπ*(21) = 19\n",
            "V*(22) = 1.032489\tπ*(22) = 14\n",
            "V*(23) = 1.110618\tπ*(23) = 15\n",
            "V*(24) = 0.779151\tπ*(24) = 0\n",
            "V*(25) = 0.945382\tπ*(25) = 1\n",
            "V*(26) = 1.185461\tπ*(26) = 3\n",
            "V*(27) = 1.083733\tπ*(27) = 18\n",
            "V*(28) = 0.697620\tπ*(28) = 15\n",
            "V*(29) = 1.125198\tπ*(29) = 5\n",
            "V*(30) = 0.556266\tπ*(30) = 1\n",
            "V*(31) = 1.088646\tπ*(31) = 6\n",
            "V*(32) = 0.829482\tπ*(32) = 11\n",
            "V*(33) = 0.884322\tπ*(33) = 6\n",
            "V*(34) = 1.180251\tπ*(34) = 1\n",
            "V*(35) = 0.922217\tπ*(35) = 4\n",
            "V*(36) = 0.916141\tπ*(36) = 11\n",
            "V*(37) = 1.031048\tπ*(37) = 10\n",
            "V*(38) = 1.077761\tπ*(38) = 14\n",
            "V*(39) = 0.900197\tπ*(39) = 19\n",
            "V*(40) = 0.855533\tπ*(40) = 5\n",
            "V*(41) = 1.205419\tπ*(41) = 0\n",
            "V*(42) = 1.056961\tπ*(42) = 4\n",
            "V*(43) = 0.720773\tπ*(43) = 14\n",
            "V*(44) = 1.141582\tπ*(44) = 1\n",
            "V*(45) = 1.110485\tπ*(45) = 4\n",
            "V*(46) = 0.983264\tπ*(46) = 5\n",
            "V*(47) = 1.030596\tπ*(47) = 3\n",
            "V*(48) = 0.779689\tπ*(48) = 1\n",
            "V*(49) = 0.815195\tπ*(49) = 12\n"
          ]
        }
      ]
    }
  ]
}